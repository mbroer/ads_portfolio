{
 "cells": [
  {
   "cell_type": "code",
   "execution_count": 3,
   "id": "0b2e9d5d",
   "metadata": {},
   "outputs": [
    {
     "name": "stdout",
     "output_type": "stream",
     "text": [
      "starting job\n",
      "71809 ingredients shortened to 7177 ingredients\n",
      "done\n"
     ]
    }
   ],
   "source": [
    "print(\"starting job\")\n",
    "\n",
    "import pandas as pd\n",
    "from IPython.display import display\n",
    "\n",
    "df = pd.read_csv('/data/foodboost/ingredients.csv', index_col=0)\n",
    "\n",
    "# sorteer op lengte van string zodat we kunnen checken of een substring voorkomt in een later element\n",
    "# na het sorteren is een ingredient zoals ei of ui het eerste waardoor je later in de lijst kunt kijken of dat\n",
    "# woord terug komt als substring\n",
    "df = df.sort_values(by=\"ingredient\", key=lambda x: x.str.len())\n",
    "\n",
    "#haal duplicates uit de ingredientenlijst\n",
    "ingredients = df['ingredient'].str.lower().unique().tolist()\n",
    "\n",
    "print(len(df), \"ingredients shortened to\", len(ingredients), \"ingredients\")\n",
    "\n",
    "print(\"done\")"
   ]
  },
  {
   "cell_type": "code",
   "execution_count": 4,
   "id": "6c1b3c51",
   "metadata": {},
   "outputs": [
    {
     "name": "stdout",
     "output_type": "stream",
     "text": [
      "starting job on 7177 ingredients\n",
      ".................................................................................................................................................................................................................................................................................................................................................................................................................................................................................................................................................................................................................................................................................................................................................................................................................................................................................................................................................................................................................................................................................................................................................................................................................................................................\n",
      "done, made 192 groups\n"
     ]
    }
   ],
   "source": [
    "print(\"starting job on\", len(ingredients), \"ingredients\")\n",
    "ingredient_groups = list()\n",
    "ingredients_backup = ingredients.copy()\n",
    "\n",
    "#deze functie moet checken of een woord voorkomt in een ingredient\n",
    "def included_substr(ingredient, key):\n",
    "    \n",
    "    #if ingredient == key:\n",
    "    #   return False\n",
    "    \n",
    "    handles = [\" \"+key+\" \", key+\"en\", key+\"tje\", key+\"-\", \"-\"+key]\n",
    "    importand_handles = [key+\"en\", key+\"tje\"]\n",
    "\n",
    "    if any(map(ingredient.__contains__, handles)): #komt er een handle voor in het ingredient?\n",
    "        return True\n",
    "    elif ingredient.endswith(key): #eindigt het ingredient met het originele woord\n",
    "        return True\n",
    "    elif ingredient.startswith(tuple(importand_handles)) or ingredient.endswith(tuple(importand_handles)): #begint/eindigd het ingredient met [ingredient]en / ingredient[tje]\n",
    "        return True\n",
    "    \n",
    "    #elif andere filters hier....\n",
    "    \n",
    "    \n",
    "    return False\n",
    "\n",
    "while True:\n",
    "    ingredient_copy = ingredients_backup[:]\n",
    "    #print(\"Ingredients still in list:\",len(ingredient_copy))\n",
    "    if len(ingredient_copy) <= 0:\n",
    "        break\n",
    "    \n",
    "    print(\".\", end = '')\n",
    "        \n",
    "    for ingredient in ingredient_copy:\n",
    "        \n",
    "        if len(ingredient.split()) > 1: #als het ingredient uit meerdere woorden bestaat, sla het ingredient over\n",
    "            if ingredient in ingredients_backup:\n",
    "                ingredients_backup.remove(ingredient)\n",
    "            continue\n",
    "        \n",
    "        group = list()\n",
    "        group.append(ingredient)\n",
    "        \n",
    "        for _ingredient in ingredient_copy:\n",
    "            \n",
    "            if _ingredient not in ingredients_backup:\n",
    "                break\n",
    "            \n",
    "            if included_substr(_ingredient, ingredient):#if substring\n",
    "            #if ingredient in _ingredient: \n",
    "                #print(ingredient, \"in\", _ingredient)\n",
    "                ingredients_backup.remove(_ingredient)\n",
    "                if _ingredient != ingredient:\n",
    "                    group.append(_ingredient)\n",
    "            \n",
    "        #ingredients.remove(ingredient)\n",
    "        if len(group) > 1:\n",
    "            ingredient_groups.append(group)\n",
    "    #print(\"group len:\",len(ingredient_groups))\n",
    "        \n",
    "print(f\"\\ndone, made {len(ingredient_groups)} groups\")"
   ]
  },
  {
   "cell_type": "code",
   "execution_count": 16,
   "id": "4c95a709",
   "metadata": {},
   "outputs": [
    {
     "data": {
      "text/plain": [
       "['bloem',\n",
       " 'tarwebloem',\n",
       " 'pizzabloem',\n",
       " 'speltbloem',\n",
       " 'rijstbloem',\n",
       " 'patentbloem',\n",
       " 'volkorenbloem',\n",
       " 'bloemenhoning',\n",
       " 'patisseriebloem',\n",
       " 'patenttarwebloem']"
      ]
     },
     "execution_count": 16,
     "metadata": {},
     "output_type": "execute_result"
    }
   ],
   "source": [
    "#print(\"aantal groepen:\", len(ingredient_groups))\n",
    "#                 v vervangen om andere groepen in te zien\n",
    "ingredient_groups[22]"
   ]
  },
  {
   "cell_type": "code",
   "execution_count": null,
   "id": "9581ff00",
   "metadata": {},
   "outputs": [],
   "source": []
  }
 ],
 "metadata": {
  "kernelspec": {
   "display_name": "Python 3 (ipykernel)",
   "language": "python",
   "name": "python3"
  },
  "language_info": {
   "codemirror_mode": {
    "name": "ipython",
    "version": 3
   },
   "file_extension": ".py",
   "mimetype": "text/x-python",
   "name": "python",
   "nbconvert_exporter": "python",
   "pygments_lexer": "ipython3",
   "version": "3.9.13"
  }
 },
 "nbformat": 4,
 "nbformat_minor": 5
}
